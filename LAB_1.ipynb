{
  "cells": [
    {
      "cell_type": "markdown",
      "metadata": {
        "id": "X72OVSJA1FQ2"
      },
      "source": [
        "# LAB 1 EXPERIMENT"
      ]
    },
    {
      "cell_type": "markdown",
      "metadata": {
        "id": "v3dNcUf51Klr"
      },
      "source": [
        "### Write a Python program to create variables for the following data types: int, float, string, and boolean. Print the type of each variable."
      ]
    },
    {
      "cell_type": "code",
      "execution_count": 1,
      "metadata": {
        "colab": {
          "base_uri": "https://localhost:8080/"
        },
        "id": "Ji6TzNnq1DM9",
        "outputId": "429ca53d-ecb0-4667-e914-27f96ef153ad"
      },
      "outputs": [
        {
          "output_type": "stream",
          "name": "stdout",
          "text": [
            "num1 is of type<class 'int'>\n",
            "num2 is of type<class 'float'>\n",
            "subject is of type<class 'str'>\n",
            "boolean is of type<class 'bool'>\n"
          ]
        }
      ],
      "source": [
        "num1 = 4\n",
        "num2 = 2.5\n",
        "subject = \"Computer Vision\"\n",
        "boolean = True\n",
        "\n",
        "print(f'num1 is of type{type(num1)}')\n",
        "print(f'num2 is of type{type(num2)}')\n",
        "print(f'subject is of type{type(subject)}')\n",
        "print(f'boolean is of type{type(boolean)}')"
      ]
    },
    {
      "cell_type": "markdown",
      "metadata": {
        "id": "WVLMhvkm2EEF"
      },
      "source": [
        "### Given a string \"Hello, Students!\", write a program to extract and print:\n",
        "* a) The first 5 characters.\n",
        "* b) The string in reverse."
      ]
    },
    {
      "cell_type": "code",
      "execution_count": 2,
      "metadata": {
        "colab": {
          "base_uri": "https://localhost:8080/",
          "height": 36
        },
        "id": "5fPYr79c1TOn",
        "outputId": "f3ba5759-d4b0-4947-bb90-584ae6b12dea"
      },
      "outputs": [
        {
          "output_type": "execute_result",
          "data": {
            "text/plain": [
              "'!stnedutS ,olleH'"
            ],
            "application/vnd.google.colaboratory.intrinsic+json": {
              "type": "string"
            }
          },
          "metadata": {},
          "execution_count": 2
        }
      ],
      "source": [
        "mystr = 'Hello, Students!'\n",
        "mystr[:5]\n",
        "mystr[::-1]"
      ]
    },
    {
      "cell_type": "markdown",
      "metadata": {
        "id": "e2ioPlvU2VFN"
      },
      "source": [
        "### Create a list of numbers from 1 to 5.\n",
        "* a) Append 6 to the list.\n",
        "* b) Remove 3 from the list.\n",
        "* c) Print the updated list."
      ]
    },
    {
      "cell_type": "code",
      "execution_count": 3,
      "metadata": {
        "id": "kqNzhVIn2NRn"
      },
      "outputs": [],
      "source": [
        "li = [x for x in range(1,6)]"
      ]
    },
    {
      "cell_type": "code",
      "source": [
        "li\n"
      ],
      "metadata": {
        "colab": {
          "base_uri": "https://localhost:8080/"
        },
        "id": "m5p-ASt7gOrN",
        "outputId": "0024cd05-f6fa-488f-ce58-0a041194c41e"
      },
      "execution_count": 4,
      "outputs": [
        {
          "output_type": "execute_result",
          "data": {
            "text/plain": [
              "[1, 2, 3, 4, 5]"
            ]
          },
          "metadata": {},
          "execution_count": 4
        }
      ]
    },
    {
      "cell_type": "code",
      "source": [
        "li.append(6)\n",
        "li"
      ],
      "metadata": {
        "colab": {
          "base_uri": "https://localhost:8080/"
        },
        "id": "1JHdGEyOgf4L",
        "outputId": "dafa7052-3817-474e-fbea-d21d8c21ec35"
      },
      "execution_count": 5,
      "outputs": [
        {
          "output_type": "execute_result",
          "data": {
            "text/plain": [
              "[1, 2, 3, 4, 5, 6]"
            ]
          },
          "metadata": {},
          "execution_count": 5
        }
      ]
    },
    {
      "cell_type": "code",
      "source": [
        "li.remove(3)\n",
        "li"
      ],
      "metadata": {
        "colab": {
          "base_uri": "https://localhost:8080/"
        },
        "id": "kCo_RFQmgl-Q",
        "outputId": "0a4090a6-5967-42f1-aa4c-ea2fa6c9305a"
      },
      "execution_count": 6,
      "outputs": [
        {
          "output_type": "execute_result",
          "data": {
            "text/plain": [
              "[1, 2, 4, 5, 6]"
            ]
          },
          "metadata": {},
          "execution_count": 6
        }
      ]
    },
    {
      "cell_type": "markdown",
      "source": [
        "## 4. Create a dictionary with the keys \"name,\" \"age,\" and \"city\" and the corresponding values \"John,\" \"25,\" and \"New York.\"\n",
        " - a) Print the value associated with the key \"city\"."
      ],
      "metadata": {
        "id": "zSmWfoayg_h8"
      }
    },
    {
      "cell_type": "code",
      "source": [
        "people = [\n",
        "    {\"name\": \"John\", \"age\": 25, \"city\": \"New York\"},\n",
        "    {\"name\": \"Alice\", \"age\": 30, \"city\": \"London\"},\n",
        "    {\"name\": \"Bob\", \"age\": 28, \"city\": \"Paris\"}\n",
        "]"
      ],
      "metadata": {
        "id": "mr-tohtHgwgk"
      },
      "execution_count": 7,
      "outputs": []
    },
    {
      "cell_type": "code",
      "source": [
        "people[0][\"city\"]"
      ],
      "metadata": {
        "colab": {
          "base_uri": "https://localhost:8080/",
          "height": 36
        },
        "id": "U0RkJlMjhWrb",
        "outputId": "7456da7f-a286-47e2-ce43-bb26f4684a36"
      },
      "execution_count": 8,
      "outputs": [
        {
          "output_type": "execute_result",
          "data": {
            "text/plain": [
              "'New York'"
            ],
            "application/vnd.google.colaboratory.intrinsic+json": {
              "type": "string"
            }
          },
          "metadata": {},
          "execution_count": 8
        }
      ]
    },
    {
      "cell_type": "markdown",
      "source": [
        "## 5. Create a tuple (1, 2, 3, 4, 5).\n",
        "- a) Access and print the third element.\n",
        "- b) Check if the number 4 exists in the tuple."
      ],
      "metadata": {
        "id": "fa4arMr5hfJa"
      }
    },
    {
      "cell_type": "code",
      "source": [
        "mytup = (1,2,3,4,5)\n",
        "mytup"
      ],
      "metadata": {
        "colab": {
          "base_uri": "https://localhost:8080/"
        },
        "id": "QpkVEHjihaBk",
        "outputId": "39428a49-1108-4ef7-c9cc-c29096c33081"
      },
      "execution_count": 9,
      "outputs": [
        {
          "output_type": "execute_result",
          "data": {
            "text/plain": [
              "(1, 2, 3, 4, 5)"
            ]
          },
          "metadata": {},
          "execution_count": 9
        }
      ]
    },
    {
      "cell_type": "code",
      "source": [
        "mytup[2]"
      ],
      "metadata": {
        "colab": {
          "base_uri": "https://localhost:8080/"
        },
        "id": "qPLAEqK6homT",
        "outputId": "dc4e6f6f-d67e-4940-a02d-0545687b008f"
      },
      "execution_count": 10,
      "outputs": [
        {
          "output_type": "execute_result",
          "data": {
            "text/plain": [
              "3"
            ]
          },
          "metadata": {},
          "execution_count": 10
        }
      ]
    },
    {
      "cell_type": "code",
      "source": [
        "4 in mytup"
      ],
      "metadata": {
        "colab": {
          "base_uri": "https://localhost:8080/"
        },
        "id": "SOzDXN4nhx-A",
        "outputId": "50e3d8ed-b628-44c2-8c76-216d92f191ba"
      },
      "execution_count": 11,
      "outputs": [
        {
          "output_type": "execute_result",
          "data": {
            "text/plain": [
              "True"
            ]
          },
          "metadata": {},
          "execution_count": 11
        }
      ]
    },
    {
      "cell_type": "markdown",
      "source": [
        "## Create a dictionary where keys are names of students (e.g., \"Your Name\", \"Your friend's Name\") and values are their marks stored as lists (e.g., [85, 90, 95]).\n",
        "- Write a program to calculate and print the average marks for each student."
      ],
      "metadata": {
        "id": "L6keXlM5h4rO"
      }
    },
    {
      "cell_type": "code",
      "source": [
        "student_marks = {\n",
        "    \"Alice\": [85, 90, 95],\n",
        "    \"Bob\": [70, 80, 75],\n",
        "    \"Charlie\": [92, 88, 95],\n",
        "    \"David\": [78, 85, 90]\n",
        "}\n",
        "\n",
        "for student in student_marks.keys():\n",
        "    average_mark = sum(student_marks[student])/len(student_marks[student])\n",
        "    print(f\"{student}'s average mark: {average_mark}\")"
      ],
      "metadata": {
        "colab": {
          "base_uri": "https://localhost:8080/"
        },
        "id": "OUYptdgCh0d2",
        "outputId": "02ddfbc4-66f1-4578-f4bb-ff031bdae3ec"
      },
      "execution_count": 12,
      "outputs": [
        {
          "output_type": "stream",
          "name": "stdout",
          "text": [
            "Alice's average mark: 90.0\n",
            "Bob's average mark: 75.0\n",
            "Charlie's average mark: 91.66666666666667\n",
            "David's average mark: 84.33333333333333\n"
          ]
        }
      ]
    },
    {
      "cell_type": "markdown",
      "source": [
        "## Write a program that takes two lists of integers and finds:\n",
        "- a) Elements common to both lists.\n",
        "- b) Elements that are in the first list but not in the second."
      ],
      "metadata": {
        "id": "mVb8zFvOi3gW"
      }
    },
    {
      "cell_type": "code",
      "source": [
        "list1 = [1, 2, 3, 4, 5]\n",
        "list2 = [3, 5, 6, 7, 8]"
      ],
      "metadata": {
        "id": "XsiRa3MmiahD"
      },
      "execution_count": 13,
      "outputs": []
    },
    {
      "cell_type": "code",
      "source": [
        "common =[]\n",
        "for x in list1:\n",
        "    if x in list2:\n",
        "        common.append(x)\n",
        "common"
      ],
      "metadata": {
        "colab": {
          "base_uri": "https://localhost:8080/"
        },
        "id": "5RmPvcHBjHIK",
        "outputId": "f9f9c79b-1c7b-4ab7-91f5-1cdb83128cea"
      },
      "execution_count": 14,
      "outputs": [
        {
          "output_type": "execute_result",
          "data": {
            "text/plain": [
              "[3, 5]"
            ]
          },
          "metadata": {},
          "execution_count": 14
        }
      ]
    },
    {
      "cell_type": "code",
      "source": [
        "inFirst =[]\n",
        "for x in list1:\n",
        "    if x not in list2:\n",
        "        inFirst.append(x)\n",
        "inFirst"
      ],
      "metadata": {
        "colab": {
          "base_uri": "https://localhost:8080/"
        },
        "id": "GLLzw5IejLeM",
        "outputId": "b084d0b6-e886-4df9-ec4b-d7e4eb0de1c0"
      },
      "execution_count": 15,
      "outputs": [
        {
          "output_type": "execute_result",
          "data": {
            "text/plain": [
              "[1, 2, 4]"
            ]
          },
          "metadata": {},
          "execution_count": 15
        }
      ]
    },
    {
      "cell_type": "markdown",
      "source": [
        "## 8. Using a nested list (2D array), create a matrix [[1, 2, 3], [4, 5, 6], [7, 8, 9]].\n",
        "- a) Write a program to transpose this matrix."
      ],
      "metadata": {
        "id": "Lc6TZg7ijfqZ"
      }
    },
    {
      "cell_type": "code",
      "source": [
        "# [[1, 2, 3],\n",
        "#  [4, 5, 6],\n",
        "#  [7, 8, 9]]\n",
        "\n",
        "\n",
        "# [[1, 4, 7],\n",
        "#  [2, 5, 8],\n",
        "#  [3, 6, 9]]\n",
        "\n",
        "arr = [[1, 2, 3], [4, 5, 6], [7, 8, 9]]\n",
        "trans = [[], [], []]\n",
        "\n",
        "for r in range(0, 3):\n",
        "  for c in range(0, 3):\n",
        "    trans[r].append(arr[c][r])\n",
        "\n",
        "trans"
      ],
      "metadata": {
        "colab": {
          "base_uri": "https://localhost:8080/"
        },
        "id": "AWUIdq6gjZw2",
        "outputId": "c0950d0b-27a6-481e-c944-c19aa3825399"
      },
      "execution_count": 16,
      "outputs": [
        {
          "output_type": "execute_result",
          "data": {
            "text/plain": [
              "[[1, 4, 7], [2, 5, 8], [3, 6, 9]]"
            ]
          },
          "metadata": {},
          "execution_count": 16
        }
      ]
    },
    {
      "cell_type": "markdown",
      "source": [
        "## 9. Write a program to sort a dictionary by its values in descending order."
      ],
      "metadata": {
        "id": "wMDmSV9im2oU"
      }
    },
    {
      "cell_type": "code",
      "source": [
        "import operator\n",
        "\n",
        "# Sample dictionary\n",
        "my_dict = {'apple': 5, 'banana': 2, 'cherry': 8, 'date': 1}\n",
        "sorted_dict = dict(sorted(my_dict.items(), key=operator.itemgetter(1), reverse=True))\n",
        "\n",
        "# Print the sorted dictionary\n",
        "sorted_dict"
      ],
      "metadata": {
        "colab": {
          "base_uri": "https://localhost:8080/"
        },
        "id": "EtjmnfzCm_7-",
        "outputId": "7dbdc06e-7c57-4dd4-e47b-f50bb1699fb6"
      },
      "execution_count": 17,
      "outputs": [
        {
          "output_type": "execute_result",
          "data": {
            "text/plain": [
              "{'cherry': 8, 'apple': 5, 'banana': 2, 'date': 1}"
            ]
          },
          "metadata": {},
          "execution_count": 17
        }
      ]
    },
    {
      "cell_type": "markdown",
      "source": [
        "## 10. Write a program to flatten a deeply nested list.\n",
        "- Hints: Given [[1, 2, [3, 4]], [5, 6], 7], the program should output [1, 2, 3, 4, 5, 6, 7]."
      ],
      "metadata": {
        "id": "pkq6DiPonnxD"
      }
    },
    {
      "cell_type": "code",
      "source": [
        "deepList = [[1, 2, [3, 4]], [5, 6], 7]\n",
        "\n",
        "def flatten(lst):\n",
        "    flattened = []\n",
        "    for item in lst:\n",
        "        if isinstance(item, list):\n",
        "            flattened.extend(flatten(item))\n",
        "        else:\n",
        "            flattened.append(item)\n",
        "    return flattened"
      ],
      "metadata": {
        "id": "j5V29zfkoLIG"
      },
      "execution_count": 18,
      "outputs": []
    },
    {
      "cell_type": "code",
      "source": [
        "flatten(deepList)"
      ],
      "metadata": {
        "colab": {
          "base_uri": "https://localhost:8080/"
        },
        "id": "6TieS3dnnzah",
        "outputId": "cae15da1-5f3e-424f-cc0d-19ac837fc7db"
      },
      "execution_count": 19,
      "outputs": [
        {
          "output_type": "execute_result",
          "data": {
            "text/plain": [
              "[1, 2, 3, 4, 5, 6, 7]"
            ]
          },
          "metadata": {},
          "execution_count": 19
        }
      ]
    },
    {
      "cell_type": "code",
      "source": [
        "flattened = []\n",
        "def flattenr(lst):\n",
        "    for item in lst:\n",
        "        if isinstance(item, list):\n",
        "            flattenr(item)\n",
        "        else:\n",
        "            flattened.append(item)\n",
        "    return flattened\n",
        "flattenr(deepList)"
      ],
      "metadata": {
        "colab": {
          "base_uri": "https://localhost:8080/"
        },
        "id": "XHZBl6q-n2pF",
        "outputId": "aa421a3a-eee3-432f-c391-4dfbf90f1d36"
      },
      "execution_count": 20,
      "outputs": [
        {
          "output_type": "execute_result",
          "data": {
            "text/plain": [
              "[1, 2, 3, 4, 5, 6, 7]"
            ]
          },
          "metadata": {},
          "execution_count": 20
        }
      ]
    },
    {
      "cell_type": "code",
      "source": [],
      "metadata": {
        "id": "oZnpp0xdodYJ"
      },
      "execution_count": 20,
      "outputs": []
    }
  ],
  "metadata": {
    "colab": {
      "provenance": []
    },
    "kernelspec": {
      "display_name": "Python 3",
      "name": "python3"
    },
    "language_info": {
      "name": "python"
    }
  },
  "nbformat": 4,
  "nbformat_minor": 0
}